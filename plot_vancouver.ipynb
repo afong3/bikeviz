{
 "cells": [
  {
   "cell_type": "code",
   "execution_count": 34,
   "metadata": {},
   "outputs": [],
   "source": [
    "import folium\n",
    "import pandas as pd\n",
    "from IPython.display import display\n",
    "import gpxpy\n",
    "import gpxpy.gpx\n",
    "import os\n",
    "import numpy as np"
   ]
  },
  {
   "cell_type": "markdown",
   "metadata": {},
   "source": [
    "## High Level View of Vancouver+"
   ]
  },
  {
   "cell_type": "code",
   "execution_count": 67,
   "metadata": {},
   "outputs": [
    {
     "data": {
      "text/html": [
       "<div style=\"width:100%;\"><div style=\"position:relative;width:100%;height:0;padding-bottom:60%;\"><span style=\"color:#565656\">Make this Notebook Trusted to load map: File -> Trust Notebook</span><iframe srcdoc=\"&lt;!DOCTYPE html&gt;\n",
       "&lt;html&gt;\n",
       "&lt;head&gt;\n",
       "    \n",
       "    &lt;meta http-equiv=&quot;content-type&quot; content=&quot;text/html; charset=UTF-8&quot; /&gt;\n",
       "    \n",
       "        &lt;script&gt;\n",
       "            L_NO_TOUCH = false;\n",
       "            L_DISABLE_3D = false;\n",
       "        &lt;/script&gt;\n",
       "    \n",
       "    &lt;style&gt;html, body {width: 100%;height: 100%;margin: 0;padding: 0;}&lt;/style&gt;\n",
       "    &lt;style&gt;#map {position:absolute;top:0;bottom:0;right:0;left:0;}&lt;/style&gt;\n",
       "    &lt;script src=&quot;https://cdn.jsdelivr.net/npm/leaflet@1.9.3/dist/leaflet.js&quot;&gt;&lt;/script&gt;\n",
       "    &lt;script src=&quot;https://code.jquery.com/jquery-1.12.4.min.js&quot;&gt;&lt;/script&gt;\n",
       "    &lt;script src=&quot;https://cdn.jsdelivr.net/npm/bootstrap@5.2.2/dist/js/bootstrap.bundle.min.js&quot;&gt;&lt;/script&gt;\n",
       "    &lt;script src=&quot;https://cdnjs.cloudflare.com/ajax/libs/Leaflet.awesome-markers/2.0.2/leaflet.awesome-markers.js&quot;&gt;&lt;/script&gt;\n",
       "    &lt;link rel=&quot;stylesheet&quot; href=&quot;https://cdn.jsdelivr.net/npm/leaflet@1.9.3/dist/leaflet.css&quot;/&gt;\n",
       "    &lt;link rel=&quot;stylesheet&quot; href=&quot;https://cdn.jsdelivr.net/npm/bootstrap@5.2.2/dist/css/bootstrap.min.css&quot;/&gt;\n",
       "    &lt;link rel=&quot;stylesheet&quot; href=&quot;https://netdna.bootstrapcdn.com/bootstrap/3.0.0/css/bootstrap.min.css&quot;/&gt;\n",
       "    &lt;link rel=&quot;stylesheet&quot; href=&quot;https://cdn.jsdelivr.net/npm/@fortawesome/fontawesome-free@6.2.0/css/all.min.css&quot;/&gt;\n",
       "    &lt;link rel=&quot;stylesheet&quot; href=&quot;https://cdnjs.cloudflare.com/ajax/libs/Leaflet.awesome-markers/2.0.2/leaflet.awesome-markers.css&quot;/&gt;\n",
       "    &lt;link rel=&quot;stylesheet&quot; href=&quot;https://cdn.jsdelivr.net/gh/python-visualization/folium/folium/templates/leaflet.awesome.rotate.min.css&quot;/&gt;\n",
       "    \n",
       "            &lt;meta name=&quot;viewport&quot; content=&quot;width=device-width,\n",
       "                initial-scale=1.0, maximum-scale=1.0, user-scalable=no&quot; /&gt;\n",
       "            &lt;style&gt;\n",
       "                #map_8931073bcb04145fc391c837b4bdbf1d {\n",
       "                    position: relative;\n",
       "                    width: 2040.0px;\n",
       "                    height: 1200.0px;\n",
       "                    left: 0.0%;\n",
       "                    top: 0.0%;\n",
       "                }\n",
       "                .leaflet-container { font-size: 1rem; }\n",
       "            &lt;/style&gt;\n",
       "        \n",
       "&lt;/head&gt;\n",
       "&lt;body&gt;\n",
       "    \n",
       "    \n",
       "            &lt;div class=&quot;folium-map&quot; id=&quot;map_8931073bcb04145fc391c837b4bdbf1d&quot; &gt;&lt;/div&gt;\n",
       "        \n",
       "&lt;/body&gt;\n",
       "&lt;script&gt;\n",
       "    \n",
       "    \n",
       "            var map_8931073bcb04145fc391c837b4bdbf1d = L.map(\n",
       "                &quot;map_8931073bcb04145fc391c837b4bdbf1d&quot;,\n",
       "                {\n",
       "                    center: [49.2578182, -123.2063049],\n",
       "                    crs: L.CRS.EPSG3857,\n",
       "                    zoom: 11,\n",
       "                    zoomControl: true,\n",
       "                    preferCanvas: false,\n",
       "                }\n",
       "            );\n",
       "\n",
       "            \n",
       "\n",
       "        \n",
       "    \n",
       "            var tile_layer_4157885e7b95613e4c29863e580fd383 = L.tileLayer(\n",
       "                &quot;https://cartodb-basemaps-{s}.global.ssl.fastly.net/dark_all/{z}/{x}/{y}.png&quot;,\n",
       "                {&quot;attribution&quot;: &quot;\\u0026copy; \\u003ca target=\\&quot;_blank\\&quot; href=\\&quot;http://www.openstreetmap.org/copyright\\&quot;\\u003eOpenStreetMap\\u003c/a\\u003e contributors \\u0026copy; \\u003ca target=\\&quot;_blank\\&quot; href=\\&quot;http://cartodb.com/attributions\\&quot;\\u003eCartoDB\\u003c/a\\u003e, CartoDB \\u003ca target=\\&quot;_blank\\&quot; href =\\&quot;http://cartodb.com/attributions\\&quot;\\u003eattributions\\u003c/a\\u003e&quot;, &quot;detectRetina&quot;: false, &quot;maxNativeZoom&quot;: 18, &quot;maxZoom&quot;: 18, &quot;minZoom&quot;: 0, &quot;noWrap&quot;: false, &quot;opacity&quot;: 1, &quot;subdomains&quot;: &quot;abc&quot;, &quot;tms&quot;: false}\n",
       "            ).addTo(map_8931073bcb04145fc391c837b4bdbf1d);\n",
       "        \n",
       "&lt;/script&gt;\n",
       "&lt;/html&gt;\" style=\"position:absolute;width:100%;height:100%;left:0;top:0;border:none !important;\" allowfullscreen webkitallowfullscreen mozallowfullscreen></iframe></div></div>"
      ],
      "text/plain": [
       "<folium.folium.Map at 0x187543b7b90>"
      ]
     },
     "metadata": {},
     "output_type": "display_data"
    }
   ],
   "source": [
    "route_map = folium.Map(\n",
    "    location=[49.2578182,-123.2063049],\n",
    "    zoom_start=11,\n",
    "    tiles='CartoDBDark_Matter',\n",
    "    width=2040,\n",
    "    height=1200\n",
    ")\n",
    "display(route_map)"
   ]
  },
  {
   "cell_type": "markdown",
   "metadata": {},
   "source": [
    "## Filter Activites Around Vancouver and Bike Rides"
   ]
  },
  {
   "cell_type": "code",
   "execution_count": 33,
   "metadata": {},
   "outputs": [],
   "source": [
    "def list_files(filepath, filetype):\n",
    "   paths = []\n",
    "   for root, dirs, files in os.walk(filepath):\n",
    "      for file in files:\n",
    "         if file.lower().endswith(filetype.lower()):\n",
    "            paths.append(os.path.join(root, file))\n",
    "   return(paths)\n",
    "\n",
    "gpx_dir = 'C:/Users/adamf/Downloads/export_45952748/activities_gpx/'\n",
    "\n",
    "files = list_files(gpx_dir, \".gpx\")\n",
    "\n",
    "max_lat = 49.9\n",
    "min_lat = 48.45\n",
    "max_lon = -121.16\n",
    "min_lon = -126.00\n",
    "\n",
    "in_bounds = []\n",
    "\n",
    "for file in files:\n",
    "    gpx_file = open(file, 'r')\n",
    "    gpx = gpxpy.parse(gpx_file)\n",
    "    bounds = gpx.tracks[0].segments[0].get_bounds()\n",
    "    \n",
    "    # GPX without bounds should not be included\n",
    "    if bounds is None:\n",
    "       continue\n",
    "\n",
    "    if gpx.tracks[0].type != \"Ride\":\n",
    "       continue\n",
    "\n",
    "    if bounds.min_latitude > min_lat and bounds.max_latitude < max_lat and bounds.min_longitude > min_lon and bounds.max_longitude < max_lon:\n",
    "       in_bounds.append(file)\n",
    "\n",
    "\n",
    "\n"
   ]
  },
  {
   "cell_type": "markdown",
   "metadata": {},
   "source": [
    "## Add Suitable Rides to the Map"
   ]
  },
  {
   "cell_type": "code",
   "execution_count": null,
   "metadata": {},
   "outputs": [],
   "source": [
    "# Activities that have a big jump between points because I forgot to unpause :') or that include ferries \n",
    "blacklist = [gpx_dir + \"3579106692.gpx\", gpx_dir + \"10226554548.gpx\", gpx_dir + \"10226533650.gpx\", gpx_dir + \"5233209498.gpx\", gpx_dir + \"10515855906.gpx\", gpx_dir + \"7085179530.gpx\", gpx_dir + \"10145677460\", gpx_dir + \"5233209498.gpx\", gpx_dir + \"6311433741.gpx\", gpx_dir + \"6277707880.gpx\", gpx_dir + \"6809940397.gpx\", gpx_dir + \"6123862131.gpx\", gpx_dir + \"6211073658.gpx\"]\n",
    "\n",
    "for file in in_bounds:\n",
    "    if file in blacklist:\n",
    "        continue\n",
    "    \n",
    "    gpx_file = open(file, 'r')\n",
    "    gpx = gpxpy.parse(gpx_file)\n",
    "\n",
    "    coords = []\n",
    "    for track in gpx.tracks:\n",
    "        for segment in track.segments:\n",
    "            for point in segment.points:\n",
    "                coords.append([point.latitude, point.longitude])\n",
    "\n",
    "\n",
    "    folium.PolyLine(np.array(coords), weight = 3, color = \"#f5ad42\", tooltip=file, opacity=0.3).add_to(route_map)\n",
    "display(route_map)"
   ]
  },
  {
   "cell_type": "markdown",
   "metadata": {},
   "source": [
    "## Sum Total Distances for Rides"
   ]
  },
  {
   "cell_type": "code",
   "execution_count": 76,
   "metadata": {},
   "outputs": [
    {
     "name": "stdout",
     "output_type": "stream",
     "text": [
      "1893.528 kg of CO2 Emissions Saved\n",
      "\n",
      "Similar to taking 3 flights from Vancouver to Toronto\n"
     ]
    }
   ],
   "source": [
    "# strava says I've ridden \n",
    "total_distance = 12376 # km\n",
    "total_elevation_gain = 161532 # meters\n",
    "total_time = 871 # hours\n",
    "\n",
    "## Source: https://ourworldindata.org/travel-carbon-footprint\n",
    "car_emissions = 170 # g / km\n",
    "bike_emissions = (50 - 16) / 2 # g / km\n",
    "\n",
    "## Source: https://curb6.com/footprint/flights/vancouver-yvr/toronto-yyz\n",
    "van_to_toronto_emissions  = 555.1 # kg CO2\n",
    "\n",
    "total_car_emissions = total_distance * car_emissions \n",
    "total_bike_emissions = total_distance * bike_emissions\n",
    "\n",
    "emissions_savings = total_car_emissions - total_bike_emissions\n",
    "print(emissions_savings / 1000, \"kg of CO2 Emissions Saved\")\n",
    "print(\"\\nSimilar to taking {f} flights from Vancouver to Toronto\".format( f = round(emissions_savings / 1000 / van_to_toronto_emissions)))"
   ]
  }
 ],
 "metadata": {
  "kernelspec": {
   "display_name": "bikeviz",
   "language": "python",
   "name": "python3"
  },
  "language_info": {
   "codemirror_mode": {
    "name": "ipython",
    "version": 3
   },
   "file_extension": ".py",
   "mimetype": "text/x-python",
   "name": "python",
   "nbconvert_exporter": "python",
   "pygments_lexer": "ipython3",
   "version": "3.11.7"
  }
 },
 "nbformat": 4,
 "nbformat_minor": 2
}
